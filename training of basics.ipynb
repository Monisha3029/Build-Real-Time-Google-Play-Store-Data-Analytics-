{
 "cells": [
  {
   "cell_type": "code",
   "execution_count": 15,
   "id": "25817570",
   "metadata": {},
   "outputs": [],
   "source": [
    "#python basics"
   ]
  },
  {
   "cell_type": "code",
   "execution_count": 16,
   "id": "51b46c4c",
   "metadata": {},
   "outputs": [
    {
     "name": "stdout",
     "output_type": "stream",
     "text": [
      "hello world\n"
     ]
    }
   ],
   "source": [
    "print(\"hello world\")"
   ]
  },
  {
   "cell_type": "code",
   "execution_count": 17,
   "id": "1e5ea4d1",
   "metadata": {},
   "outputs": [
    {
     "name": "stdout",
     "output_type": "stream",
     "text": [
      "30\n"
     ]
    }
   ],
   "source": [
    "print(5*6)"
   ]
  },
  {
   "cell_type": "code",
   "execution_count": 18,
   "id": "de0ef5ae",
   "metadata": {},
   "outputs": [
    {
     "data": {
      "text/plain": [
       "1"
      ]
     },
     "execution_count": 18,
     "metadata": {},
     "output_type": "execute_result"
    }
   ],
   "source": [
    "l=[1,2,3,4]\n",
    "1"
   ]
  },
  {
   "cell_type": "code",
   "execution_count": 19,
   "id": "34165454",
   "metadata": {},
   "outputs": [
    {
     "data": {
      "text/plain": [
       "['windows', 'linux', 'mac']"
      ]
     },
     "execution_count": 19,
     "metadata": {},
     "output_type": "execute_result"
    }
   ],
   "source": [
    "s=[\"windows\", \"linux\", \"mac\"]\n",
    "s"
   ]
  },
  {
   "cell_type": "code",
   "execution_count": 20,
   "id": "7cf8686a",
   "metadata": {},
   "outputs": [
    {
     "data": {
      "text/plain": [
       "[1, 'hi', 4.03]"
      ]
     },
     "execution_count": 20,
     "metadata": {},
     "output_type": "execute_result"
    }
   ],
   "source": [
    "x=[1, \"hi\", 4.03]\n",
    "x"
   ]
  },
  {
   "cell_type": "code",
   "execution_count": 21,
   "id": "692d8c6a",
   "metadata": {},
   "outputs": [
    {
     "data": {
      "text/plain": [
       "('hi', 'hello', 'how are you')"
      ]
     },
     "execution_count": 21,
     "metadata": {},
     "output_type": "execute_result"
    }
   ],
   "source": [
    "t=(\"hi\", \"hello\", \"how are you\")\n",
    "t"
   ]
  },
  {
   "cell_type": "code",
   "execution_count": 22,
   "id": "cac7d9e6",
   "metadata": {},
   "outputs": [
    {
     "data": {
      "text/plain": [
       "('hi', 4.0)"
      ]
     },
     "execution_count": 22,
     "metadata": {},
     "output_type": "execute_result"
    }
   ],
   "source": [
    "t=(\"hi\", 4.0)\n",
    "t"
   ]
  },
  {
   "cell_type": "code",
   "execution_count": 23,
   "id": "018465a1",
   "metadata": {},
   "outputs": [
    {
     "name": "stdout",
     "output_type": "stream",
     "text": [
      "1\n"
     ]
    }
   ],
   "source": [
    "a=4\n",
    "if a%2==0:\n",
    "    print(1)\n",
    "else:\n",
    "    print(0)"
   ]
  },
  {
   "cell_type": "code",
   "execution_count": 24,
   "id": "d1d8bcf6",
   "metadata": {},
   "outputs": [
    {
     "name": "stdout",
     "output_type": "stream",
     "text": [
      "1\n",
      "2\n",
      "3\n",
      "4\n"
     ]
    }
   ],
   "source": [
    "i=1\n",
    "while i<5:\n",
    "    print(i)\n",
    "    i=i+1"
   ]
  },
  {
   "cell_type": "code",
   "execution_count": 25,
   "id": "27ecd28f",
   "metadata": {},
   "outputs": [
    {
     "name": "stdout",
     "output_type": "stream",
     "text": [
      "potato\n",
      "cabbage\n",
      "onion\n"
     ]
    }
   ],
   "source": [
    "vegetables=[\"potato\", \"cabbage\", \"onion\"]\n",
    "for x in vegetables:\n",
    "    print(x)"
   ]
  },
  {
   "cell_type": "code",
   "execution_count": 26,
   "id": "93b4096c",
   "metadata": {},
   "outputs": [
    {
     "data": {
      "text/plain": [
       "0"
      ]
     },
     "execution_count": 26,
     "metadata": {},
     "output_type": "execute_result"
    }
   ],
   "source": [
    "def myfunction(a):\n",
    "    if a%2==0:\n",
    "        return 1\n",
    "    else:\n",
    "        return 0\n",
    "myfunction(5)"
   ]
  },
  {
   "cell_type": "code",
   "execution_count": 27,
   "id": "8f928360",
   "metadata": {},
   "outputs": [
    {
     "name": "stdout",
     "output_type": "stream",
     "text": [
      "6\n"
     ]
    }
   ],
   "source": [
    "x=lambda a:a+1\n",
    "print(x(5))"
   ]
  },
  {
   "cell_type": "code",
   "execution_count": 28,
   "id": "f324c246",
   "metadata": {},
   "outputs": [],
   "source": [
    "#numpy basics"
   ]
  },
  {
   "cell_type": "code",
   "execution_count": 29,
   "id": "7aabc3f1",
   "metadata": {},
   "outputs": [],
   "source": [
    "import numpy as np"
   ]
  },
  {
   "cell_type": "code",
   "execution_count": 30,
   "id": "07a6b6c8",
   "metadata": {},
   "outputs": [
    {
     "data": {
      "text/plain": [
       "array([1, 2, 3, 4])"
      ]
     },
     "execution_count": 30,
     "metadata": {},
     "output_type": "execute_result"
    }
   ],
   "source": [
    "a=np.array([1,2,3,4])\n",
    "a"
   ]
  },
  {
   "cell_type": "code",
   "execution_count": 31,
   "id": "9a2057ea",
   "metadata": {},
   "outputs": [
    {
     "data": {
      "text/plain": [
       "4"
      ]
     },
     "execution_count": 31,
     "metadata": {},
     "output_type": "execute_result"
    }
   ],
   "source": [
    "a[-1]"
   ]
  },
  {
   "cell_type": "code",
   "execution_count": 32,
   "id": "4a651a2c",
   "metadata": {},
   "outputs": [
    {
     "data": {
      "text/plain": [
       "array([1, 2, 3, 4, 5, 6, 7, 8, 9])"
      ]
     },
     "execution_count": 32,
     "metadata": {},
     "output_type": "execute_result"
    }
   ],
   "source": [
    "b=np.array([1,2,3,4,5,6,7,8,9])\n",
    "b[0:9]"
   ]
  },
  {
   "cell_type": "code",
   "execution_count": 33,
   "id": "2fc9c257",
   "metadata": {},
   "outputs": [
    {
     "data": {
      "text/plain": [
       "array([1, 2, 3, 4, 5, 6, 7, 8, 9])"
      ]
     },
     "execution_count": 33,
     "metadata": {},
     "output_type": "execute_result"
    }
   ],
   "source": [
    "c=b.copy()\n",
    "c"
   ]
  },
  {
   "cell_type": "code",
   "execution_count": 34,
   "id": "15e06964",
   "metadata": {},
   "outputs": [
    {
     "data": {
      "text/plain": [
       "array([1, 2, 3, 4, 5, 6, 7, 8, 9])"
      ]
     },
     "execution_count": 34,
     "metadata": {},
     "output_type": "execute_result"
    }
   ],
   "source": [
    "d=b.view()\n",
    "d"
   ]
  },
  {
   "cell_type": "code",
   "execution_count": 35,
   "id": "5c9c454a",
   "metadata": {},
   "outputs": [
    {
     "data": {
      "text/plain": [
       "array([1, 2, 3, 4, 5, 6, 7, 8, 9])"
      ]
     },
     "execution_count": 35,
     "metadata": {},
     "output_type": "execute_result"
    }
   ],
   "source": [
    "b[6]=12\n",
    "c"
   ]
  },
  {
   "cell_type": "code",
   "execution_count": 36,
   "id": "016b5240",
   "metadata": {},
   "outputs": [
    {
     "data": {
      "text/plain": [
       "array([ 1,  2,  3,  4,  5,  6, 12,  8,  9])"
      ]
     },
     "execution_count": 36,
     "metadata": {},
     "output_type": "execute_result"
    }
   ],
   "source": [
    "d"
   ]
  },
  {
   "cell_type": "code",
   "execution_count": 37,
   "id": "5adb339d",
   "metadata": {},
   "outputs": [
    {
     "data": {
      "text/plain": [
       "array([[ 1,  2,  3],\n",
       "       [ 4,  5,  6],\n",
       "       [ 7,  8,  9],\n",
       "       [10, 11, 12]])"
      ]
     },
     "execution_count": 37,
     "metadata": {},
     "output_type": "execute_result"
    }
   ],
   "source": [
    "a=np.array([1,2,3,4,5,6,7,8,9,10,11,12])\n",
    "b=a.reshape(4,3)\n",
    "b"
   ]
  },
  {
   "cell_type": "code",
   "execution_count": 38,
   "id": "a49cea8f",
   "metadata": {},
   "outputs": [
    {
     "data": {
      "text/plain": [
       "array([ 1,  2,  3,  4,  5,  6,  7,  8,  9, 10, 11, 12, 13, 14, 15])"
      ]
     },
     "execution_count": 38,
     "metadata": {},
     "output_type": "execute_result"
    }
   ],
   "source": [
    "c=np.array([13,14,15])\n",
    "d=np.concatenate((a,c))\n",
    "d"
   ]
  },
  {
   "cell_type": "code",
   "execution_count": 39,
   "id": "066272fc",
   "metadata": {},
   "outputs": [
    {
     "data": {
      "text/plain": [
       "[array([1, 2, 3, 4, 5, 6, 7, 8]), array([ 9, 10, 11, 12, 13, 14, 15])]"
      ]
     },
     "execution_count": 39,
     "metadata": {},
     "output_type": "execute_result"
    }
   ],
   "source": [
    "np.array_split(d,2)"
   ]
  },
  {
   "cell_type": "code",
   "execution_count": 40,
   "id": "72e50453",
   "metadata": {},
   "outputs": [
    {
     "data": {
      "text/plain": [
       "(array([3], dtype=int64),)"
      ]
     },
     "execution_count": 40,
     "metadata": {},
     "output_type": "execute_result"
    }
   ],
   "source": [
    "np.where(d==4)"
   ]
  },
  {
   "cell_type": "code",
   "execution_count": 41,
   "id": "91e39d1c",
   "metadata": {},
   "outputs": [
    {
     "data": {
      "text/plain": [
       "(array([ 1,  3,  5,  7,  9, 11, 13], dtype=int64),)"
      ]
     },
     "execution_count": 41,
     "metadata": {},
     "output_type": "execute_result"
    }
   ],
   "source": [
    "np.where(d%2==0)"
   ]
  },
  {
   "cell_type": "code",
   "execution_count": 42,
   "id": "bb67bf79",
   "metadata": {},
   "outputs": [
    {
     "data": {
      "text/plain": [
       "array([ 2,  3,  4,  5, 10])"
      ]
     },
     "execution_count": 42,
     "metadata": {},
     "output_type": "execute_result"
    }
   ],
   "source": [
    "c=np.array([3,4,2,10,5])\n",
    "np.sort(c)"
   ]
  },
  {
   "cell_type": "code",
   "execution_count": 43,
   "id": "12405c91",
   "metadata": {},
   "outputs": [
    {
     "data": {
      "text/plain": [
       "array([[1, 2, 3, 5],\n",
       "       [1, 2, 4, 5]])"
      ]
     },
     "execution_count": 43,
     "metadata": {},
     "output_type": "execute_result"
    }
   ],
   "source": [
    "c=np.array([[2,3,1,5],[5,1,2,4]])\n",
    "np.sort(c)"
   ]
  },
  {
   "cell_type": "code",
   "execution_count": 44,
   "id": "6cc30466",
   "metadata": {},
   "outputs": [
    {
     "data": {
      "text/plain": [
       "array(['apple', 'banana', 'mango', 'orange'], dtype='<U6')"
      ]
     },
     "execution_count": 44,
     "metadata": {},
     "output_type": "execute_result"
    }
   ],
   "source": [
    "c=np.array([\"apple\", \"orange\", \"banana\", \"mango\"])\n",
    "np.sort(c)"
   ]
  },
  {
   "cell_type": "code",
   "execution_count": 45,
   "id": "c67e8bb9",
   "metadata": {},
   "outputs": [
    {
     "data": {
      "text/plain": [
       "56"
      ]
     },
     "execution_count": 45,
     "metadata": {},
     "output_type": "execute_result"
    }
   ],
   "source": [
    "np.random.randint(100)"
   ]
  },
  {
   "cell_type": "code",
   "execution_count": 46,
   "id": "c13b5930",
   "metadata": {},
   "outputs": [
    {
     "data": {
      "text/plain": [
       "array([0., 0., 0., 0., 0.])"
      ]
     },
     "execution_count": 46,
     "metadata": {},
     "output_type": "execute_result"
    }
   ],
   "source": [
    "np.zeros(5)"
   ]
  },
  {
   "cell_type": "code",
   "execution_count": 47,
   "id": "11a36397",
   "metadata": {},
   "outputs": [
    {
     "data": {
      "text/plain": [
       "array([1., 1.])"
      ]
     },
     "execution_count": 47,
     "metadata": {},
     "output_type": "execute_result"
    }
   ],
   "source": [
    "np.ones(2)"
   ]
  },
  {
   "cell_type": "code",
   "execution_count": 48,
   "id": "71442c31",
   "metadata": {},
   "outputs": [],
   "source": [
    "##pandas basics"
   ]
  },
  {
   "cell_type": "code",
   "execution_count": 49,
   "id": "3fc421f7",
   "metadata": {},
   "outputs": [],
   "source": [
    "import numpy as np\n",
    "import pandas as pd\n",
    "\n",
    "\n",
    "dict1={\n",
    "    \"Name\":[\"Rohan\", \"seema\", \"Mahesh\", \"Shruthi\"],\n",
    "    \"Marks\":[90,55,67,98],\n",
    "    \"City\":[\"delhi\", \"Jaipur\", \"Ranpur\", \"Barilly\"]\n",
    "}\n",
    "\n",
    "\n"
   ]
  },
  {
   "cell_type": "code",
   "execution_count": 50,
   "id": "d88610f7",
   "metadata": {},
   "outputs": [
    {
     "name": "stdout",
     "output_type": "stream",
     "text": [
      "      Name  Marks     City\n",
      "0    Rohan     90    delhi\n",
      "1    seema     55   Jaipur\n",
      "2   Mahesh     67   Ranpur\n",
      "3  Shruthi     98  Barilly\n"
     ]
    }
   ],
   "source": [
    "dict1={\n",
    "    \"Name\":[\"Rohan\", \"seema\", \"Mahesh\", \"Shruthi\"],\n",
    "    \"Marks\":[90,55,67,98],\n",
    "    \"City\":[\"delhi\", \"Jaipur\", \"Ranpur\", \"Barilly\"]\n",
    "}\n",
    "df=pd.DataFrame(dict1)\n",
    "print(df)\n"
   ]
  },
  {
   "cell_type": "code",
   "execution_count": 51,
   "id": "36072893",
   "metadata": {},
   "outputs": [
    {
     "data": {
      "text/html": [
       "<div>\n",
       "<style scoped>\n",
       "    .dataframe tbody tr th:only-of-type {\n",
       "        vertical-align: middle;\n",
       "    }\n",
       "\n",
       "    .dataframe tbody tr th {\n",
       "        vertical-align: top;\n",
       "    }\n",
       "\n",
       "    .dataframe thead th {\n",
       "        text-align: right;\n",
       "    }\n",
       "</style>\n",
       "<table border=\"1\" class=\"dataframe\">\n",
       "  <thead>\n",
       "    <tr style=\"text-align: right;\">\n",
       "      <th></th>\n",
       "      <th>Name</th>\n",
       "      <th>Marks</th>\n",
       "      <th>City</th>\n",
       "    </tr>\n",
       "  </thead>\n",
       "  <tbody>\n",
       "    <tr>\n",
       "      <th>1</th>\n",
       "      <td>Rohan</td>\n",
       "      <td>90</td>\n",
       "      <td>delhi</td>\n",
       "    </tr>\n",
       "    <tr>\n",
       "      <th>2</th>\n",
       "      <td>seema</td>\n",
       "      <td>55</td>\n",
       "      <td>Jaipur</td>\n",
       "    </tr>\n",
       "    <tr>\n",
       "      <th>3</th>\n",
       "      <td>Mahesh</td>\n",
       "      <td>67</td>\n",
       "      <td>Ranpur</td>\n",
       "    </tr>\n",
       "    <tr>\n",
       "      <th>4</th>\n",
       "      <td>Shruthi</td>\n",
       "      <td>98</td>\n",
       "      <td>Barilly</td>\n",
       "    </tr>\n",
       "  </tbody>\n",
       "</table>\n",
       "</div>"
      ],
      "text/plain": [
       "      Name  Marks     City\n",
       "1    Rohan     90    delhi\n",
       "2    seema     55   Jaipur\n",
       "3   Mahesh     67   Ranpur\n",
       "4  Shruthi     98  Barilly"
      ]
     },
     "execution_count": 51,
     "metadata": {},
     "output_type": "execute_result"
    }
   ],
   "source": [
    "df.index=[1,2,3,4]\n",
    "df\n"
   ]
  },
  {
   "cell_type": "code",
   "execution_count": 52,
   "id": "0a902719",
   "metadata": {},
   "outputs": [
    {
     "data": {
      "text/plain": [
       "0     0.294866\n",
       "1     0.519777\n",
       "2     0.834503\n",
       "3     0.904977\n",
       "4     0.922809\n",
       "5     0.810076\n",
       "6     0.226021\n",
       "7     0.874403\n",
       "8     0.385538\n",
       "9     0.537511\n",
       "10    0.508829\n",
       "11    0.091312\n",
       "12    0.562466\n",
       "13    0.005895\n",
       "14    0.413199\n",
       "15    0.198635\n",
       "16    0.850126\n",
       "17    0.144259\n",
       "18    0.307136\n",
       "19    0.041370\n",
       "dtype: float64"
      ]
     },
     "execution_count": 52,
     "metadata": {},
     "output_type": "execute_result"
    }
   ],
   "source": [
    "ser=pd.Series(np.random.rand(20))\n",
    "ser\n"
   ]
  },
  {
   "cell_type": "code",
   "execution_count": 53,
   "id": "78392cfd",
   "metadata": {},
   "outputs": [
    {
     "data": {
      "text/plain": [
       "pandas.core.series.Series"
      ]
     },
     "execution_count": 53,
     "metadata": {},
     "output_type": "execute_result"
    }
   ],
   "source": [
    "type(ser)  \n",
    "\n"
   ]
  },
  {
   "cell_type": "code",
   "execution_count": 54,
   "id": "6eb0766d",
   "metadata": {},
   "outputs": [
    {
     "data": {
      "text/html": [
       "<div>\n",
       "<style scoped>\n",
       "    .dataframe tbody tr th:only-of-type {\n",
       "        vertical-align: middle;\n",
       "    }\n",
       "\n",
       "    .dataframe tbody tr th {\n",
       "        vertical-align: top;\n",
       "    }\n",
       "\n",
       "    .dataframe thead th {\n",
       "        text-align: right;\n",
       "    }\n",
       "</style>\n",
       "<table border=\"1\" class=\"dataframe\">\n",
       "  <thead>\n",
       "    <tr style=\"text-align: right;\">\n",
       "      <th></th>\n",
       "      <th>0</th>\n",
       "      <th>1</th>\n",
       "      <th>2</th>\n",
       "      <th>3</th>\n",
       "      <th>4</th>\n",
       "    </tr>\n",
       "  </thead>\n",
       "  <tbody>\n",
       "    <tr>\n",
       "      <th>0</th>\n",
       "      <td>0.112477</td>\n",
       "      <td>0.882037</td>\n",
       "      <td>0.415216</td>\n",
       "      <td>0.021102</td>\n",
       "      <td>0.180312</td>\n",
       "    </tr>\n",
       "    <tr>\n",
       "      <th>1</th>\n",
       "      <td>0.841821</td>\n",
       "      <td>0.563796</td>\n",
       "      <td>0.634576</td>\n",
       "      <td>0.793381</td>\n",
       "      <td>0.862956</td>\n",
       "    </tr>\n",
       "    <tr>\n",
       "      <th>2</th>\n",
       "      <td>0.313290</td>\n",
       "      <td>0.017151</td>\n",
       "      <td>0.930975</td>\n",
       "      <td>0.287173</td>\n",
       "      <td>0.249914</td>\n",
       "    </tr>\n",
       "    <tr>\n",
       "      <th>3</th>\n",
       "      <td>0.737106</td>\n",
       "      <td>0.538709</td>\n",
       "      <td>0.695307</td>\n",
       "      <td>0.004529</td>\n",
       "      <td>0.926442</td>\n",
       "    </tr>\n",
       "    <tr>\n",
       "      <th>4</th>\n",
       "      <td>0.430682</td>\n",
       "      <td>0.138821</td>\n",
       "      <td>0.489586</td>\n",
       "      <td>0.469160</td>\n",
       "      <td>0.385037</td>\n",
       "    </tr>\n",
       "    <tr>\n",
       "      <th>...</th>\n",
       "      <td>...</td>\n",
       "      <td>...</td>\n",
       "      <td>...</td>\n",
       "      <td>...</td>\n",
       "      <td>...</td>\n",
       "    </tr>\n",
       "    <tr>\n",
       "      <th>329</th>\n",
       "      <td>0.881716</td>\n",
       "      <td>0.456577</td>\n",
       "      <td>0.761776</td>\n",
       "      <td>0.424125</td>\n",
       "      <td>0.310918</td>\n",
       "    </tr>\n",
       "    <tr>\n",
       "      <th>330</th>\n",
       "      <td>0.415050</td>\n",
       "      <td>0.051858</td>\n",
       "      <td>0.673417</td>\n",
       "      <td>0.083290</td>\n",
       "      <td>0.646924</td>\n",
       "    </tr>\n",
       "    <tr>\n",
       "      <th>331</th>\n",
       "      <td>0.935935</td>\n",
       "      <td>0.879936</td>\n",
       "      <td>0.772089</td>\n",
       "      <td>0.133673</td>\n",
       "      <td>0.952483</td>\n",
       "    </tr>\n",
       "    <tr>\n",
       "      <th>332</th>\n",
       "      <td>0.606305</td>\n",
       "      <td>0.706963</td>\n",
       "      <td>0.194487</td>\n",
       "      <td>0.412627</td>\n",
       "      <td>0.965938</td>\n",
       "    </tr>\n",
       "    <tr>\n",
       "      <th>333</th>\n",
       "      <td>0.567331</td>\n",
       "      <td>0.177972</td>\n",
       "      <td>0.969318</td>\n",
       "      <td>0.097232</td>\n",
       "      <td>0.081853</td>\n",
       "    </tr>\n",
       "  </tbody>\n",
       "</table>\n",
       "<p>334 rows × 5 columns</p>\n",
       "</div>"
      ],
      "text/plain": [
       "            0         1         2         3         4\n",
       "0    0.112477  0.882037  0.415216  0.021102  0.180312\n",
       "1    0.841821  0.563796  0.634576  0.793381  0.862956\n",
       "2    0.313290  0.017151  0.930975  0.287173  0.249914\n",
       "3    0.737106  0.538709  0.695307  0.004529  0.926442\n",
       "4    0.430682  0.138821  0.489586  0.469160  0.385037\n",
       "..        ...       ...       ...       ...       ...\n",
       "329  0.881716  0.456577  0.761776  0.424125  0.310918\n",
       "330  0.415050  0.051858  0.673417  0.083290  0.646924\n",
       "331  0.935935  0.879936  0.772089  0.133673  0.952483\n",
       "332  0.606305  0.706963  0.194487  0.412627  0.965938\n",
       "333  0.567331  0.177972  0.969318  0.097232  0.081853\n",
       "\n",
       "[334 rows x 5 columns]"
      ]
     },
     "execution_count": 54,
     "metadata": {},
     "output_type": "execute_result"
    }
   ],
   "source": [
    "\n",
    "newdf=pd.DataFrame(np.random.rand(334,5), index=np.arange(334))\n",
    "newdf\n"
   ]
  },
  {
   "cell_type": "code",
   "execution_count": 55,
   "id": "98418536",
   "metadata": {},
   "outputs": [
    {
     "data": {
      "text/html": [
       "<div>\n",
       "<style scoped>\n",
       "    .dataframe tbody tr th:only-of-type {\n",
       "        vertical-align: middle;\n",
       "    }\n",
       "\n",
       "    .dataframe tbody tr th {\n",
       "        vertical-align: top;\n",
       "    }\n",
       "\n",
       "    .dataframe thead th {\n",
       "        text-align: right;\n",
       "    }\n",
       "</style>\n",
       "<table border=\"1\" class=\"dataframe\">\n",
       "  <thead>\n",
       "    <tr style=\"text-align: right;\">\n",
       "      <th></th>\n",
       "      <th>0</th>\n",
       "      <th>1</th>\n",
       "      <th>2</th>\n",
       "      <th>3</th>\n",
       "      <th>4</th>\n",
       "    </tr>\n",
       "  </thead>\n",
       "  <tbody>\n",
       "    <tr>\n",
       "      <th>0</th>\n",
       "      <td>0.112477</td>\n",
       "      <td>0.882037</td>\n",
       "      <td>0.415216</td>\n",
       "      <td>0.021102</td>\n",
       "      <td>0.180312</td>\n",
       "    </tr>\n",
       "    <tr>\n",
       "      <th>1</th>\n",
       "      <td>0.841821</td>\n",
       "      <td>0.563796</td>\n",
       "      <td>0.634576</td>\n",
       "      <td>0.793381</td>\n",
       "      <td>0.862956</td>\n",
       "    </tr>\n",
       "    <tr>\n",
       "      <th>2</th>\n",
       "      <td>0.313290</td>\n",
       "      <td>0.017151</td>\n",
       "      <td>0.930975</td>\n",
       "      <td>0.287173</td>\n",
       "      <td>0.249914</td>\n",
       "    </tr>\n",
       "  </tbody>\n",
       "</table>\n",
       "</div>"
      ],
      "text/plain": [
       "          0         1         2         3         4\n",
       "0  0.112477  0.882037  0.415216  0.021102  0.180312\n",
       "1  0.841821  0.563796  0.634576  0.793381  0.862956\n",
       "2  0.313290  0.017151  0.930975  0.287173  0.249914"
      ]
     },
     "execution_count": 55,
     "metadata": {},
     "output_type": "execute_result"
    }
   ],
   "source": [
    "newdf.head(3)\n"
   ]
  },
  {
   "cell_type": "code",
   "execution_count": 56,
   "id": "504c8113",
   "metadata": {},
   "outputs": [
    {
     "data": {
      "text/html": [
       "<div>\n",
       "<style scoped>\n",
       "    .dataframe tbody tr th:only-of-type {\n",
       "        vertical-align: middle;\n",
       "    }\n",
       "\n",
       "    .dataframe tbody tr th {\n",
       "        vertical-align: top;\n",
       "    }\n",
       "\n",
       "    .dataframe thead th {\n",
       "        text-align: right;\n",
       "    }\n",
       "</style>\n",
       "<table border=\"1\" class=\"dataframe\">\n",
       "  <thead>\n",
       "    <tr style=\"text-align: right;\">\n",
       "      <th></th>\n",
       "      <th>0</th>\n",
       "      <th>1</th>\n",
       "      <th>2</th>\n",
       "      <th>3</th>\n",
       "      <th>4</th>\n",
       "    </tr>\n",
       "  </thead>\n",
       "  <tbody>\n",
       "    <tr>\n",
       "      <th>331</th>\n",
       "      <td>0.935935</td>\n",
       "      <td>0.879936</td>\n",
       "      <td>0.772089</td>\n",
       "      <td>0.133673</td>\n",
       "      <td>0.952483</td>\n",
       "    </tr>\n",
       "    <tr>\n",
       "      <th>332</th>\n",
       "      <td>0.606305</td>\n",
       "      <td>0.706963</td>\n",
       "      <td>0.194487</td>\n",
       "      <td>0.412627</td>\n",
       "      <td>0.965938</td>\n",
       "    </tr>\n",
       "    <tr>\n",
       "      <th>333</th>\n",
       "      <td>0.567331</td>\n",
       "      <td>0.177972</td>\n",
       "      <td>0.969318</td>\n",
       "      <td>0.097232</td>\n",
       "      <td>0.081853</td>\n",
       "    </tr>\n",
       "  </tbody>\n",
       "</table>\n",
       "</div>"
      ],
      "text/plain": [
       "            0         1         2         3         4\n",
       "331  0.935935  0.879936  0.772089  0.133673  0.952483\n",
       "332  0.606305  0.706963  0.194487  0.412627  0.965938\n",
       "333  0.567331  0.177972  0.969318  0.097232  0.081853"
      ]
     },
     "execution_count": 56,
     "metadata": {},
     "output_type": "execute_result"
    }
   ],
   "source": [
    "newdf.tail(3)\n"
   ]
  },
  {
   "cell_type": "code",
   "execution_count": 57,
   "id": "2def173f",
   "metadata": {},
   "outputs": [
    {
     "data": {
      "text/html": [
       "<div>\n",
       "<style scoped>\n",
       "    .dataframe tbody tr th:only-of-type {\n",
       "        vertical-align: middle;\n",
       "    }\n",
       "\n",
       "    .dataframe tbody tr th {\n",
       "        vertical-align: top;\n",
       "    }\n",
       "\n",
       "    .dataframe thead th {\n",
       "        text-align: right;\n",
       "    }\n",
       "</style>\n",
       "<table border=\"1\" class=\"dataframe\">\n",
       "  <thead>\n",
       "    <tr style=\"text-align: right;\">\n",
       "      <th></th>\n",
       "      <th>0</th>\n",
       "      <th>1</th>\n",
       "      <th>2</th>\n",
       "      <th>3</th>\n",
       "      <th>4</th>\n",
       "    </tr>\n",
       "  </thead>\n",
       "  <tbody>\n",
       "    <tr>\n",
       "      <th>0</th>\n",
       "      <td>0.112477</td>\n",
       "      <td>0.882037</td>\n",
       "      <td>0.415216</td>\n",
       "      <td>0.021102</td>\n",
       "      <td>0.180312</td>\n",
       "    </tr>\n",
       "    <tr>\n",
       "      <th>1</th>\n",
       "      <td>0.841821</td>\n",
       "      <td>0.563796</td>\n",
       "      <td>0.634576</td>\n",
       "      <td>0.793381</td>\n",
       "      <td>0.862956</td>\n",
       "    </tr>\n",
       "    <tr>\n",
       "      <th>2</th>\n",
       "      <td>0.313290</td>\n",
       "      <td>0.017151</td>\n",
       "      <td>0.930975</td>\n",
       "      <td>0.287173</td>\n",
       "      <td>0.249914</td>\n",
       "    </tr>\n",
       "    <tr>\n",
       "      <th>3</th>\n",
       "      <td>0.737106</td>\n",
       "      <td>0.538709</td>\n",
       "      <td>0.695307</td>\n",
       "      <td>0.004529</td>\n",
       "      <td>0.926442</td>\n",
       "    </tr>\n",
       "    <tr>\n",
       "      <th>4</th>\n",
       "      <td>0.430682</td>\n",
       "      <td>0.138821</td>\n",
       "      <td>0.489586</td>\n",
       "      <td>0.469160</td>\n",
       "      <td>0.385037</td>\n",
       "    </tr>\n",
       "    <tr>\n",
       "      <th>...</th>\n",
       "      <td>...</td>\n",
       "      <td>...</td>\n",
       "      <td>...</td>\n",
       "      <td>...</td>\n",
       "      <td>...</td>\n",
       "    </tr>\n",
       "    <tr>\n",
       "      <th>329</th>\n",
       "      <td>0.881716</td>\n",
       "      <td>0.456577</td>\n",
       "      <td>0.761776</td>\n",
       "      <td>0.424125</td>\n",
       "      <td>0.310918</td>\n",
       "    </tr>\n",
       "    <tr>\n",
       "      <th>330</th>\n",
       "      <td>0.415050</td>\n",
       "      <td>0.051858</td>\n",
       "      <td>0.673417</td>\n",
       "      <td>0.083290</td>\n",
       "      <td>0.646924</td>\n",
       "    </tr>\n",
       "    <tr>\n",
       "      <th>331</th>\n",
       "      <td>0.935935</td>\n",
       "      <td>0.879936</td>\n",
       "      <td>0.772089</td>\n",
       "      <td>0.133673</td>\n",
       "      <td>0.952483</td>\n",
       "    </tr>\n",
       "    <tr>\n",
       "      <th>332</th>\n",
       "      <td>0.606305</td>\n",
       "      <td>0.706963</td>\n",
       "      <td>0.194487</td>\n",
       "      <td>0.412627</td>\n",
       "      <td>0.965938</td>\n",
       "    </tr>\n",
       "    <tr>\n",
       "      <th>333</th>\n",
       "      <td>0.567331</td>\n",
       "      <td>0.177972</td>\n",
       "      <td>0.969318</td>\n",
       "      <td>0.097232</td>\n",
       "      <td>0.081853</td>\n",
       "    </tr>\n",
       "  </tbody>\n",
       "</table>\n",
       "<p>334 rows × 5 columns</p>\n",
       "</div>"
      ],
      "text/plain": [
       "            0         1         2         3         4\n",
       "0    0.112477  0.882037  0.415216  0.021102  0.180312\n",
       "1    0.841821  0.563796  0.634576  0.793381  0.862956\n",
       "2    0.313290  0.017151  0.930975  0.287173  0.249914\n",
       "3    0.737106  0.538709  0.695307  0.004529  0.926442\n",
       "4    0.430682  0.138821  0.489586  0.469160  0.385037\n",
       "..        ...       ...       ...       ...       ...\n",
       "329  0.881716  0.456577  0.761776  0.424125  0.310918\n",
       "330  0.415050  0.051858  0.673417  0.083290  0.646924\n",
       "331  0.935935  0.879936  0.772089  0.133673  0.952483\n",
       "332  0.606305  0.706963  0.194487  0.412627  0.965938\n",
       "333  0.567331  0.177972  0.969318  0.097232  0.081853\n",
       "\n",
       "[334 rows x 5 columns]"
      ]
     },
     "execution_count": 57,
     "metadata": {},
     "output_type": "execute_result"
    }
   ],
   "source": [
    "newdf.sort_index(axis=0)\n"
   ]
  },
  {
   "cell_type": "code",
   "execution_count": 58,
   "id": "48d4a4f4",
   "metadata": {},
   "outputs": [
    {
     "data": {
      "text/html": [
       "<div>\n",
       "<style scoped>\n",
       "    .dataframe tbody tr th:only-of-type {\n",
       "        vertical-align: middle;\n",
       "    }\n",
       "\n",
       "    .dataframe tbody tr th {\n",
       "        vertical-align: top;\n",
       "    }\n",
       "\n",
       "    .dataframe thead th {\n",
       "        text-align: right;\n",
       "    }\n",
       "</style>\n",
       "<table border=\"1\" class=\"dataframe\">\n",
       "  <thead>\n",
       "    <tr style=\"text-align: right;\">\n",
       "      <th></th>\n",
       "      <th>1</th>\n",
       "      <th>2</th>\n",
       "      <th>3</th>\n",
       "      <th>4</th>\n",
       "    </tr>\n",
       "  </thead>\n",
       "  <tbody>\n",
       "    <tr>\n",
       "      <th>0</th>\n",
       "      <td>0.882037</td>\n",
       "      <td>0.415216</td>\n",
       "      <td>0.021102</td>\n",
       "      <td>0.180312</td>\n",
       "    </tr>\n",
       "    <tr>\n",
       "      <th>1</th>\n",
       "      <td>0.563796</td>\n",
       "      <td>0.634576</td>\n",
       "      <td>0.793381</td>\n",
       "      <td>0.862956</td>\n",
       "    </tr>\n",
       "    <tr>\n",
       "      <th>2</th>\n",
       "      <td>0.017151</td>\n",
       "      <td>0.930975</td>\n",
       "      <td>0.287173</td>\n",
       "      <td>0.249914</td>\n",
       "    </tr>\n",
       "    <tr>\n",
       "      <th>3</th>\n",
       "      <td>0.538709</td>\n",
       "      <td>0.695307</td>\n",
       "      <td>0.004529</td>\n",
       "      <td>0.926442</td>\n",
       "    </tr>\n",
       "    <tr>\n",
       "      <th>4</th>\n",
       "      <td>0.138821</td>\n",
       "      <td>0.489586</td>\n",
       "      <td>0.469160</td>\n",
       "      <td>0.385037</td>\n",
       "    </tr>\n",
       "    <tr>\n",
       "      <th>...</th>\n",
       "      <td>...</td>\n",
       "      <td>...</td>\n",
       "      <td>...</td>\n",
       "      <td>...</td>\n",
       "    </tr>\n",
       "    <tr>\n",
       "      <th>329</th>\n",
       "      <td>0.456577</td>\n",
       "      <td>0.761776</td>\n",
       "      <td>0.424125</td>\n",
       "      <td>0.310918</td>\n",
       "    </tr>\n",
       "    <tr>\n",
       "      <th>330</th>\n",
       "      <td>0.051858</td>\n",
       "      <td>0.673417</td>\n",
       "      <td>0.083290</td>\n",
       "      <td>0.646924</td>\n",
       "    </tr>\n",
       "    <tr>\n",
       "      <th>331</th>\n",
       "      <td>0.879936</td>\n",
       "      <td>0.772089</td>\n",
       "      <td>0.133673</td>\n",
       "      <td>0.952483</td>\n",
       "    </tr>\n",
       "    <tr>\n",
       "      <th>332</th>\n",
       "      <td>0.706963</td>\n",
       "      <td>0.194487</td>\n",
       "      <td>0.412627</td>\n",
       "      <td>0.965938</td>\n",
       "    </tr>\n",
       "    <tr>\n",
       "      <th>333</th>\n",
       "      <td>0.177972</td>\n",
       "      <td>0.969318</td>\n",
       "      <td>0.097232</td>\n",
       "      <td>0.081853</td>\n",
       "    </tr>\n",
       "  </tbody>\n",
       "</table>\n",
       "<p>334 rows × 4 columns</p>\n",
       "</div>"
      ],
      "text/plain": [
       "            1         2         3         4\n",
       "0    0.882037  0.415216  0.021102  0.180312\n",
       "1    0.563796  0.634576  0.793381  0.862956\n",
       "2    0.017151  0.930975  0.287173  0.249914\n",
       "3    0.538709  0.695307  0.004529  0.926442\n",
       "4    0.138821  0.489586  0.469160  0.385037\n",
       "..        ...       ...       ...       ...\n",
       "329  0.456577  0.761776  0.424125  0.310918\n",
       "330  0.051858  0.673417  0.083290  0.646924\n",
       "331  0.879936  0.772089  0.133673  0.952483\n",
       "332  0.706963  0.194487  0.412627  0.965938\n",
       "333  0.177972  0.969318  0.097232  0.081853\n",
       "\n",
       "[334 rows x 4 columns]"
      ]
     },
     "execution_count": 58,
     "metadata": {},
     "output_type": "execute_result"
    }
   ],
   "source": [
    "newdf.drop(0, axis=1)\n"
   ]
  },
  {
   "cell_type": "code",
   "execution_count": 59,
   "id": "690ec2f1",
   "metadata": {},
   "outputs": [],
   "source": [
    "newdf.dropna(inplace=True)"
   ]
  },
  {
   "cell_type": "code",
   "execution_count": null,
   "id": "4fed96ed",
   "metadata": {},
   "outputs": [],
   "source": []
  }
 ],
 "metadata": {
  "kernelspec": {
   "display_name": "base",
   "language": "python",
   "name": "python3"
  },
  "language_info": {
   "codemirror_mode": {
    "name": "ipython",
    "version": 3
   },
   "file_extension": ".py",
   "mimetype": "text/x-python",
   "name": "python",
   "nbconvert_exporter": "python",
   "pygments_lexer": "ipython3",
   "version": "3.9.12"
  }
 },
 "nbformat": 4,
 "nbformat_minor": 5
}
